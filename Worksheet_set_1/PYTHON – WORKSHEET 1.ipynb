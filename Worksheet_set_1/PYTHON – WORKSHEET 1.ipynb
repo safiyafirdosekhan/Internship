{
 "cells": [
  {
   "cell_type": "code",
   "execution_count": 1,
   "id": "2cda123b",
   "metadata": {},
   "outputs": [
    {
     "name": "stdout",
     "output_type": "stream",
     "text": [
      "Enter a number: 4\n",
      "The factorial of 4 is 24\n"
     ]
    }
   ],
   "source": [
    "# 11. Write a python program to find the factorial of a number.\n",
    "\n",
    "num = int(input(\"Enter a number: \"))    \n",
    "factorial = 1    \n",
    "\n",
    "if num < 0:    \n",
    "   print(\" Factorial does not exist for negative numbers\")    \n",
    "\n",
    "elif num == 0:    \n",
    "   print(\"The factorial of 0 is 1\")    \n",
    "\n",
    "else:    \n",
    "   for i in range(1,num + 1):    \n",
    "       factorial = factorial*i    \n",
    "   print(\"The factorial of\",num,\"is\",factorial)    "
   ]
  },
  {
   "cell_type": "code",
   "execution_count": 2,
   "id": "b7009a6a",
   "metadata": {},
   "outputs": [
    {
     "name": "stdout",
     "output_type": "stream",
     "text": [
      "Enter any number : 5\n",
      "5 is a prime number\n"
     ]
    }
   ],
   "source": [
    "# 12. Write a python program to find whether a number is prime or composite.\n",
    "\n",
    "num = int(input(\"Enter any number : \"))\n",
    "\n",
    "if num > 1:\n",
    "    for i in range(2, num):\n",
    "        if (num % i) == 0:\n",
    "            print(num, \"is a composite number\")\n",
    "            break\n",
    "    else:\n",
    "        print(num, \"is a prime number\")\n",
    "\n",
    "elif num == 0 or 1:\n",
    "    print(num, \"is neither prime nor composite number\")"
   ]
  },
  {
   "cell_type": "code",
   "execution_count": 3,
   "id": "33ee4b7e",
   "metadata": {},
   "outputs": [
    {
     "name": "stdout",
     "output_type": "stream",
     "text": [
      "Please enter a string : LEVEL\n",
      "This string is a Palindrome\n"
     ]
    }
   ],
   "source": [
    "# 13. Write a python program to check whether a given string is palindrome or not.\n",
    "\n",
    "str = input(\"Please enter a string : \")\n",
    "\n",
    "if(str == str[:: - 1]):\n",
    "   print(\"This string is a Palindrome\")\n",
    "\n",
    "else:\n",
    "   print(\"This string is not a Palindrome\")"
   ]
  },
  {
   "cell_type": "code",
   "execution_count": 4,
   "id": "c7a9b175",
   "metadata": {},
   "outputs": [
    {
     "name": "stdout",
     "output_type": "stream",
     "text": [
      "Enter base: 12\n",
      "Enter height: 10\n",
      "Enter angle: 60\n",
      "Hypotenuse = 15.620499351813308\n"
     ]
    }
   ],
   "source": [
    "# 14. Write a Python program to get the third side of right-angled triangle from two given sides.\n",
    "\n",
    "import math\n",
    "\n",
    "a = float(input(\"Enter base: \"))\n",
    "b = float(input(\"Enter height: \"))\n",
    "x = float(input(\"Enter angle: \"))\n",
    "\n",
    "c = math.sqrt(a ** 2 + b ** 2)\n",
    "\n",
    "print(\"Hypotenuse =\", c)"
   ]
  },
  {
   "cell_type": "code",
   "execution_count": 5,
   "id": "fd8af4c4",
   "metadata": {},
   "outputs": [
    {
     "name": "stdout",
     "output_type": "stream",
     "text": [
      "Please enter the string  SAFIYA\n",
      "count of  Y is 1\n",
      "count of  S is 1\n",
      "count of  A is 2\n",
      "count of  F is 1\n",
      "count of  I is 1\n"
     ]
    }
   ],
   "source": [
    "# 15. Write a python program to print the frequency of each of the characters present in a given string.\n",
    "\n",
    "string= input(\"Please enter the string  \")\n",
    "\n",
    "for i in set(string):   #set(string) to take unique char\n",
    "    print(\"count of \",i ,'is', string.count(i))"
   ]
  },
  {
   "cell_type": "code",
   "execution_count": null,
   "id": "ba5ebd80",
   "metadata": {},
   "outputs": [],
   "source": []
  }
 ],
 "metadata": {
  "kernelspec": {
   "display_name": "Python 3 (ipykernel)",
   "language": "python",
   "name": "python3"
  },
  "language_info": {
   "codemirror_mode": {
    "name": "ipython",
    "version": 3
   },
   "file_extension": ".py",
   "mimetype": "text/x-python",
   "name": "python",
   "nbconvert_exporter": "python",
   "pygments_lexer": "ipython3",
   "version": "3.9.7"
  }
 },
 "nbformat": 4,
 "nbformat_minor": 5
}
